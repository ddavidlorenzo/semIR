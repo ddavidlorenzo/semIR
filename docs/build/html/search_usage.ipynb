{
 "cells": [
  {
   "cell_type": "markdown",
   "metadata": {},
   "source": [
    "# How to use the Information Retrieval framework."
   ]
  },
  {
   "cell_type": "markdown",
   "metadata": {},
   "source": [
    "Learn how to use the retrieval framework and exploit the different information retrieval pipelines."
   ]
  },
  {
   "cell_type": "markdown",
   "metadata": {},
   "source": [
    "## Setup"
   ]
  },
  {
   "cell_type": "markdown",
   "metadata": {},
   "source": [
    "### Load dependencies"
   ]
  },
  {
   "cell_type": "code",
   "execution_count": 23,
   "metadata": {},
   "outputs": [],
   "source": [
    "from semantic_search import SemanticSearch\n",
    "from lexical_search import TfIdfSearch\n",
    "from utils.paths import *\n",
    "from utils import utils"
   ]
  },
  {
   "cell_type": "markdown",
   "metadata": {},
   "source": [
    "### Search parameters"
   ]
  },
  {
   "cell_type": "markdown",
   "metadata": {},
   "source": [
    "Define pretrained sentence transformer to perform semantic search."
   ]
  },
  {
   "cell_type": "code",
   "execution_count": 2,
   "metadata": {},
   "outputs": [],
   "source": [
    "# Other tested pretrained models are 'paraphrase-distilroberta-base-v1'\n",
    "# and 'msmarco-distilbert-base-v3'\n",
    "pretrained_model = \"paraphrase-distilroberta-base-v2\""
   ]
  },
  {
   "cell_type": "markdown",
   "metadata": {},
   "source": [
    "Define pretrained cross-encoder to perform re-ranking."
   ]
  },
  {
   "cell_type": "code",
   "execution_count": 3,
   "metadata": {},
   "outputs": [],
   "source": [
    "# Alternative pretrained cross-encoders tested:\n",
    "# cross-encoders are 'cross-encoder/ms-marco-MiniLM-L-6-v2'\n",
    "pretrained_crossencoder = \"cross-encoder/stsb-distilroberta-base\""
   ]
  },
  {
   "cell_type": "markdown",
   "metadata": {},
   "source": [
    "Define the encoding stategy. The encoding strategy must be a string containing the names of the features to include into the input of the encoder, each of them separated by an underscore ('_'). For example, if you were to use the title and the overview as the encoding strategy, `encoding_strategy` must be either `title_overview` or `overview_title`. Current supported features are 'title', 'authors' and 'overview'. For further information, have a look at the ``utils.utils.prepare_input_encoder`` function."
   ]
  },
  {
   "cell_type": "code",
   "execution_count": 4,
   "metadata": {},
   "outputs": [],
   "source": [
    "encoding_strategy = \"title_overview\""
   ]
  },
  {
   "cell_type": "markdown",
   "metadata": {},
   "source": [
    "Define the number of trees to use in the ANNOY index."
   ]
  },
  {
   "cell_type": "code",
   "execution_count": 5,
   "metadata": {},
   "outputs": [],
   "source": [
    "n_trees = 576"
   ]
  },
  {
   "cell_type": "markdown",
   "metadata": {},
   "source": [
    "Define the summarization strategy. Using the top 5 or 4 sentences is recommended. Use an empty string, `''` to eschew summarization."
   ]
  },
  {
   "cell_type": "code",
   "execution_count": 6,
   "metadata": {},
   "outputs": [],
   "source": [
    "summarization = \"top5sent\"  #'top4sent' #''"
   ]
  },
  {
   "cell_type": "markdown",
   "metadata": {},
   "source": [
    "Load the corpus from disk. Beware that the loaded corpus must be consistent with the summarization technique you wish to use (e.g., for the 'top5sent' strategy, the dataset that must be is 'books_processed_top5sent.csv')"
   ]
  },
  {
   "cell_type": "code",
   "execution_count": 7,
   "metadata": {},
   "outputs": [],
   "source": [
    "corpus = utils.load_corpus(PATH_BOOKS_TOP5S)"
   ]
  },
  {
   "cell_type": "markdown",
   "metadata": {},
   "source": [
    "Define the filename from which the ANNOY index is to be stored/loaded from disk."
   ]
  },
  {
   "cell_type": "code",
   "execution_count": 8,
   "metadata": {},
   "outputs": [],
   "source": [
    "path_annoy_cache = (\n",
    "    f\"{DIR_ANNOY}{pretrained_model}/t{n_trees}_{summarization}_{encoding_strategy}.ann\"\n",
    ")"
   ]
  },
  {
   "cell_type": "markdown",
   "metadata": {},
   "source": [
    "Define filepath from which computed embeddings for bi-encoder evaluation are stored/loaded from disk."
   ]
  },
  {
   "cell_type": "code",
   "execution_count": 9,
   "metadata": {},
   "outputs": [],
   "source": [
    "# If the directory does not exist, it will be automatically created.\n",
    "path_embs_cache = (\n",
    "    f\"{DIR_EMBEDDINGS}{pretrained_model}/{summarization}_{encoding_strategy}.pkl\"\n",
    ")"
   ]
  },
  {
   "cell_type": "markdown",
   "metadata": {},
   "source": [
    "Define filepath from which computed vector for TF-IDF evaluation are stored/loaded from disk."
   ]
  },
  {
   "cell_type": "code",
   "execution_count": 10,
   "metadata": {},
   "outputs": [],
   "source": [
    "# If the directory does not exist, it will be automatically created.\n",
    "vectors_cache_path = f\"{DIR_EMBEDDINGS}tfidf/{summarization}_{encoding_strategy}.pkl\""
   ]
  },
  {
   "cell_type": "markdown",
   "metadata": {},
   "source": [
    "Function to print search results."
   ]
  },
  {
   "cell_type": "code",
   "execution_count": 11,
   "metadata": {},
   "outputs": [],
   "source": [
    "def print_results(results, search_title=\"Search results.\"):\n",
    "    print(search_title)\n",
    "    if isinstance(results, str):\n",
    "        print(results)\n",
    "    else:\n",
    "        for result in results:\n",
    "            print(result)"
   ]
  },
  {
   "cell_type": "markdown",
   "metadata": {},
   "source": [
    "### Define your queries and $k$"
   ]
  },
  {
   "cell_type": "code",
   "execution_count": 12,
   "metadata": {},
   "outputs": [],
   "source": [
    "# List of queries written in natural language.\n",
    "queries = [\n",
    "    \"Best cooking recipes\"\n",
    "]"
   ]
  },
  {
   "cell_type": "markdown",
   "metadata": {},
   "source": [
    "Define the default number of most relevant documents to retrieve, $k$."
   ]
  },
  {
   "cell_type": "code",
   "execution_count": 13,
   "metadata": {},
   "outputs": [],
   "source": [
    "k = 3"
   ]
  },
  {
   "cell_type": "markdown",
   "metadata": {},
   "source": [
    "## Semantic search"
   ]
  },
  {
   "cell_type": "markdown",
   "metadata": {},
   "source": [
    "Instantiate a SemanticSearch object with the desired parameters."
   ]
  },
  {
   "cell_type": "code",
   "execution_count": 14,
   "metadata": {},
   "outputs": [],
   "source": [
    "semantic_search = SemanticSearch(\n",
    "    corpus,\n",
    "    path_embs_cache=path_embs_cache,\n",
    "    encoding_strategy=encoding_strategy,\n",
    "    path_annoy_cache=path_annoy_cache,\n",
    ")\n"
   ]
  },
  {
   "cell_type": "markdown",
   "metadata": {},
   "source": [
    "### Standard semantic search"
   ]
  },
  {
   "cell_type": "markdown",
   "metadata": {},
   "source": [
    "Use Bi-Encoder retrieval. Time complexity is $\\mathcal{O}(n)$"
   ]
  },
  {
   "cell_type": "code",
   "execution_count": 15,
   "metadata": {},
   "outputs": [
    {
     "name": "stderr",
     "output_type": "stream",
     "text": [
      "2025-03-14 16:16:51,475 - [9284] - search - [biencoder] - INFO - Loading Bi-Encoder paraphrase-distilroberta-base-v2\n",
      "2025-03-14 16:16:52,953 - [9284] - search - [embeddings] - INFO - Retrieving embeddings from disk for Bi-Encoder paraphrase-distilroberta-base-v2  with encoding strategy 'title_overview'\n",
      "2025-03-14 16:16:53,041 - [9284] - search - [_get_embeddings] - INFO - Fetched pre-computed embeddings from embeddings/paraphrase-distilroberta-base-v2/top5sent_title_overview.pkl\n"
     ]
    },
    {
     "name": "stdout",
     "output_type": "stream",
     "text": [
      "Standard semantic search\n",
      "======================\n",
      "\n",
      "Query: Best cooking recipes\n",
      "Top 3 most similar books in corpus:\n",
      "Title: The Taste of Home Cookbook -- (Score: 0.5897) (Goodreads Id: 3885)\n",
      "Authors: Janet Briggs, Beth Wittlinger\n",
      "Overview: More than 1,200 recipes including more than 135 light recipes are compiled in this sturdy five-ring binder.\n",
      "\n",
      "\n",
      "Title: The Way to Cook -- (Score: 0.5722) (Goodreads Id: 132688)\n",
      "Authors: Julia Child\n",
      "Overview: In this magnificent new cookbook, illustrated with full color throughout, Julia Child give us her magnum opus the distillation of a lifetime of cooking. In this spirit, Julia has conceived her most creative and instructive cookbook, blending classic techniques with free-style American cooking and with added emphasis on lightness, freshness, and simpler preparations. Breaking with conventional organization, she structures the chapters from Soups to Cakes & Cookies around master recipes, giving all the reassuring details that she is so good at and grouping the recipes according to method; these are followed�in shorthand form�by innumerable variations that are easily made once the basics are understood. For example, make her simple but impeccably prepared sauté of chicken, and before long you're easily whipping up Chicken with Mushrooms and Cream, Chicken Provençale, Chicken Pipérade, or Chicken Marengo. A one-of-a-kind, brilliant, and inspiring book from the incomparable Julia, which is bound to rekindle interest in the satisfactions of good home cooking.\n",
      "\n",
      "\n",
      "Title: How to Cook Everything: Simple Recipes for Great Food -- (Score: 0.5326) (Goodreads Id: 603204)\n",
      "Authors: Mark Bittman\n",
      "Overview: Great Food Made Simple Here's the breakthrough one-stop cooking reference for today's generation of cooks! Nationally known cooking authority Mark Bittman shows you how to prepare great food for all occasions using simple techniques, fresh ingredients, and basic kitchen equipment. Just as important, How to Cook Everything takes a relaxed, straightforward approach to cooking, so you can enjoy yourself in the kitchen and still achieve outstanding results.\n",
      "\n",
      "\n"
     ]
    }
   ],
   "source": [
    "results = semantic_search.search(*queries, k=k)\n",
    "\n",
    "print_results(results, \"Standard semantic search\")"
   ]
  },
  {
   "cell_type": "markdown",
   "metadata": {},
   "source": [
    "### Sublinear dense retrieval using ANN"
   ]
  },
  {
   "cell_type": "markdown",
   "metadata": {},
   "source": [
    "Time complexity is $\\mathcal{O}(\\log n)$"
   ]
  },
  {
   "cell_type": "code",
   "execution_count": 16,
   "metadata": {},
   "outputs": [
    {
     "name": "stderr",
     "output_type": "stream",
     "text": [
      "2025-03-14 16:16:53,138 - [9284] - search - [annoy] - INFO - Loading Annoy Index.\n",
      "2025-03-14 16:16:53,142 - [9284] - search - [get_annoy_index] - INFO - Loading ANNOY index from disk\n"
     ]
    },
    {
     "name": "stdout",
     "output_type": "stream",
     "text": [
      "Semantic search using ANNOY.\n",
      "======================\n",
      "\n",
      "Query: Best cooking recipes\n",
      "Top 3 most similar books in corpus:\n",
      "Title: The Taste of Home Cookbook -- (Score: 0.5897) (Goodreads Id: 3885)\n",
      "Authors: Janet Briggs, Beth Wittlinger\n",
      "Overview: More than 1,200 recipes including more than 135 light recipes are compiled in this sturdy five-ring binder.\n",
      "\n",
      "\n",
      "Title: The Way to Cook -- (Score: 0.5722) (Goodreads Id: 132688)\n",
      "Authors: Julia Child\n",
      "Overview: In this magnificent new cookbook, illustrated with full color throughout, Julia Child give us her magnum opus the distillation of a lifetime of cooking. In this spirit, Julia has conceived her most creative and instructive cookbook, blending classic techniques with free-style American cooking and with added emphasis on lightness, freshness, and simpler preparations. Breaking with conventional organization, she structures the chapters from Soups to Cakes & Cookies around master recipes, giving all the reassuring details that she is so good at and grouping the recipes according to method; these are followed�in shorthand form�by innumerable variations that are easily made once the basics are understood. For example, make her simple but impeccably prepared sauté of chicken, and before long you're easily whipping up Chicken with Mushrooms and Cream, Chicken Provençale, Chicken Pipérade, or Chicken Marengo. A one-of-a-kind, brilliant, and inspiring book from the incomparable Julia, which is bound to rekindle interest in the satisfactions of good home cooking.\n",
      "\n",
      "\n",
      "Title: How to Cook Everything: Simple Recipes for Great Food -- (Score: 0.5326) (Goodreads Id: 603204)\n",
      "Authors: Mark Bittman\n",
      "Overview: Great Food Made Simple Here's the breakthrough one-stop cooking reference for today's generation of cooks! Nationally known cooking authority Mark Bittman shows you how to prepare great food for all occasions using simple techniques, fresh ingredients, and basic kitchen equipment. Just as important, How to Cook Everything takes a relaxed, straightforward approach to cooking, so you can enjoy yourself in the kitchen and still achieve outstanding results.\n",
      "\n",
      "\n"
     ]
    }
   ],
   "source": [
    "# Semantic search using ANNOY.\n",
    "results = semantic_search.search(*queries, k=k, use_annoy=True)\n",
    "\n",
    "print_results(results, \"Semantic search using ANNOY.\")\n"
   ]
  },
  {
   "cell_type": "markdown",
   "metadata": {},
   "source": [
    "### Bi-encoder retrieval, Cross-encoder re-ranking"
   ]
  },
  {
   "cell_type": "code",
   "execution_count": 17,
   "metadata": {},
   "outputs": [
    {
     "name": "stderr",
     "output_type": "stream",
     "text": [
      "2025-03-14 16:16:53,397 - [9284] - search - [crossencoder] - INFO - Loading Cross-Encoder cross-encoder/stsb-distilroberta-base\n"
     ]
    },
    {
     "name": "stdout",
     "output_type": "stream",
     "text": [
      "Semantic search using Cross-encoder re-ranking.\n",
      "======================\n",
      "\n",
      "Query: Best cooking recipes\n",
      "Top 3 most similar books in corpus:\n",
      "Title: How to Cook Everything: Simple Recipes for Great Food -- (Score: 0.7228) (Goodreads Id: 603204)\n",
      "Authors: Mark Bittman\n",
      "Overview: Great Food Made Simple Here's the breakthrough one-stop cooking reference for today's generation of cooks! Nationally known cooking authority Mark Bittman shows you how to prepare great food for all occasions using simple techniques, fresh ingredients, and basic kitchen equipment. Just as important, How to Cook Everything takes a relaxed, straightforward approach to cooking, so you can enjoy yourself in the kitchen and still achieve outstanding results.\n",
      "\n",
      "\n",
      "Title: The Joy of Cooking -- (Score: 0.6943) (Goodreads Id: 327847)\n",
      "Authors: Irma S. Rombauer, Marion Rombauer Becker, Ethan Becker\n",
      "Overview: Since its original publication, Joy of Cooking has been the most authoritative cookbook in America, the one upon which millions of cooks have confidently relied for more than sixty-five years. New chapters reflect changing American tastes and lifestyles:Separate new chapters on grains, beans, and pasta include recipes for grits, polenta, pilafs, risottos, vegetarian chills, bean casseroles, and make-ahead lasagnes. New baking and dessert chapters promise to enhance Joy of Cooking's reputation as a bible for bakers. From cover to cover, Joy's chapters have been imbued with the knowledge and passion of America's greatest cooks and cooking teachers. An invaluable combination of old and new, this edition of Joy of Cooking promises to keep you cooking for years to come.\n",
      "\n",
      "\n",
      "Title: The Unofficial Harry Potter Cookbook: From Cauldron Cakes to Knickerbocker Glory--More Than 150 Magical Recipes for Wizards and Non-Wizards Alike (Unofficial Cookbook) -- (Score: 0.6895) (Goodreads Id: 8281069)\n",
      "Authors: Dinah Bucholz\n",
      "Overview: Bangers and mash with Harry, Ron, and Hermione in the Hogwarts dining hall. A proper cuppa tea and rock cakes in Hagrid's hut. Cauldron cakes and pumpkin juice on the Hogwarts Express. With this cookbook, dining a la Hogwarts is as easy as Banoffi Pie! With more than 150 easy-to-make recipes, tips, and techniques, you can indulge in spellbindingly delicious meals drawn straight from the pages of your favorite Potter stories, such as:Treacle Tart Harry's favorite dessert, Molly's Meat Pies Mrs. Weasley's classic dish, Kreacher's French Onion Soup, Pumpkin Pasties a staple on the Hogwarts Express cartWith a dash of magic and a drop of creativity, you'll conjure up the entries, desserts, snacks, and drinks you need to transform ordinary Muggle meals into magickal culinary masterpieces, sure make even Mrs. Weasley proud!\n",
      "\n",
      "\n"
     ]
    }
   ],
   "source": [
    "# Semantic search using Cross-encoder re-ranking.\n",
    "results = semantic_search.search(*queries, k=k, reranking=True)\n",
    "\n",
    "print_results(results, \"Semantic search using Cross-encoder re-ranking.\")"
   ]
  },
  {
   "cell_type": "markdown",
   "metadata": {},
   "source": [
    "### Sublinear Bi-encoder retrieval, Cross-encoder re-ranking"
   ]
  },
  {
   "cell_type": "code",
   "execution_count": 18,
   "metadata": {},
   "outputs": [
    {
     "name": "stdout",
     "output_type": "stream",
     "text": [
      "Semantic search using ANNOY and Cross-encoder re-ranking.\n",
      "======================\n",
      "\n",
      "Query: Best cooking recipes\n",
      "Top 3 most similar books in corpus:\n",
      "Title: How to Cook Everything: Simple Recipes for Great Food -- (Score: 0.7228) (Goodreads Id: 603204)\n",
      "Authors: Mark Bittman\n",
      "Overview: Great Food Made Simple Here's the breakthrough one-stop cooking reference for today's generation of cooks! Nationally known cooking authority Mark Bittman shows you how to prepare great food for all occasions using simple techniques, fresh ingredients, and basic kitchen equipment. Just as important, How to Cook Everything takes a relaxed, straightforward approach to cooking, so you can enjoy yourself in the kitchen and still achieve outstanding results.\n",
      "\n",
      "\n",
      "Title: The Joy of Cooking -- (Score: 0.6943) (Goodreads Id: 327847)\n",
      "Authors: Irma S. Rombauer, Marion Rombauer Becker, Ethan Becker\n",
      "Overview: Since its original publication, Joy of Cooking has been the most authoritative cookbook in America, the one upon which millions of cooks have confidently relied for more than sixty-five years. New chapters reflect changing American tastes and lifestyles:Separate new chapters on grains, beans, and pasta include recipes for grits, polenta, pilafs, risottos, vegetarian chills, bean casseroles, and make-ahead lasagnes. New baking and dessert chapters promise to enhance Joy of Cooking's reputation as a bible for bakers. From cover to cover, Joy's chapters have been imbued with the knowledge and passion of America's greatest cooks and cooking teachers. An invaluable combination of old and new, this edition of Joy of Cooking promises to keep you cooking for years to come.\n",
      "\n",
      "\n",
      "Title: The Unofficial Harry Potter Cookbook: From Cauldron Cakes to Knickerbocker Glory--More Than 150 Magical Recipes for Wizards and Non-Wizards Alike (Unofficial Cookbook) -- (Score: 0.6895) (Goodreads Id: 8281069)\n",
      "Authors: Dinah Bucholz\n",
      "Overview: Bangers and mash with Harry, Ron, and Hermione in the Hogwarts dining hall. A proper cuppa tea and rock cakes in Hagrid's hut. Cauldron cakes and pumpkin juice on the Hogwarts Express. With this cookbook, dining a la Hogwarts is as easy as Banoffi Pie! With more than 150 easy-to-make recipes, tips, and techniques, you can indulge in spellbindingly delicious meals drawn straight from the pages of your favorite Potter stories, such as:Treacle Tart Harry's favorite dessert, Molly's Meat Pies Mrs. Weasley's classic dish, Kreacher's French Onion Soup, Pumpkin Pasties a staple on the Hogwarts Express cartWith a dash of magic and a drop of creativity, you'll conjure up the entries, desserts, snacks, and drinks you need to transform ordinary Muggle meals into magickal culinary masterpieces, sure make even Mrs. Weasley proud!\n",
      "\n",
      "\n"
     ]
    }
   ],
   "source": [
    "# Semantic search using ANNOY and Cross-encoder re-ranking.\n",
    "results = semantic_search.search(*queries, k=k, use_annoy=True, reranking=True)\n",
    "\n",
    "print_results(results, \"Semantic search using ANNOY and Cross-encoder re-ranking.\")"
   ]
  },
  {
   "cell_type": "markdown",
   "metadata": {},
   "source": [
    "## Lexical search"
   ]
  },
  {
   "cell_type": "markdown",
   "metadata": {},
   "source": [
    "Instantiate a TfIdfSearch object with the desired parameters.\n"
   ]
  },
  {
   "cell_type": "code",
   "execution_count": 19,
   "metadata": {},
   "outputs": [
    {
     "name": "stderr",
     "output_type": "stream",
     "text": [
      "2025-03-14 16:17:11,474 - [9284] - search - [_get_vectors] - INFO - Loading precomputed vectors from disk\n"
     ]
    }
   ],
   "source": [
    "tfidf_search = TfIdfSearch(\n",
    "    corpus,\n",
    "    vectors_cache_path=vectors_cache_path,\n",
    "    encoding_strategy=encoding_strategy,\n",
    "    path_embs_cache=path_embs_cache\n",
    ")"
   ]
  },
  {
   "cell_type": "markdown",
   "metadata": {},
   "source": [
    "### Standard lexical search"
   ]
  },
  {
   "cell_type": "markdown",
   "metadata": {},
   "source": [
    "Use TF-IDF retrieval. Time complexity is $\\mathcal{O}(n)$"
   ]
  },
  {
   "cell_type": "code",
   "execution_count": 20,
   "metadata": {},
   "outputs": [
    {
     "name": "stdout",
     "output_type": "stream",
     "text": [
      "Results for standard lexical search\n",
      "======================\n",
      "\n",
      "Query: Best cooking recipes\n",
      "Top 3 most similar books in corpus:\n",
      "Title: Better Homes and Gardens New Cook Book   -- (Score: 0.4852) (Goodreads Id: 411053)\n",
      "Authors: Better Homes and Gardens\n",
      "Overview: Features: Over 900 new recipes 1,200 in all-reflect current eating habits and lifestyles; 500 new photographs over 700 in all-including 60 percent more of finished food than the last edition; Dozens of new recipes offer ethnic flavours, fresh ingredients, or vegetarian appeal; Many recipes feature make-ahead directions or quick-to-the-table meals; New chapter provides recipes for crockery cookers; Efficient, easy-to-read format, with recipes categorised into 21 chapters, each thoroughly indexed for easy reference; Expanded chapter on cooking basics includes advice on food safety, menu planning, table setting, and make-ahead cooking, plus a thorough glossary on ingredients and techniques; Appliance-friendly recipes help cooks save time and creatively use new kitchen tools; Nutrition information with each recipe, plus diabetic exchanges; Contemporary food photography attracts browsers and helps cooks discover new recipes to make; Icons identify low-fat, no-fat, fast, and best-loved recipes; Every recipe tested and perfected by the Better Homes and Gardens Test Kitchen; Revised and updated cooking charts, ingredient photos, emergency substitutions, and equivalents; Respected, reliable kitchen reference with hundreds of cooking terms, tips, and techniques.\n",
      "\n",
      "\n",
      "Title: The Joy of Cooking -- (Score: 0.3935) (Goodreads Id: 327847)\n",
      "Authors: Irma S. Rombauer, Marion Rombauer Becker, Ethan Becker\n",
      "Overview: Since its original publication, Joy of Cooking has been the most authoritative cookbook in America, the one upon which millions of cooks have confidently relied for more than sixty-five years. New chapters reflect changing American tastes and lifestyles:Separate new chapters on grains, beans, and pasta include recipes for grits, polenta, pilafs, risottos, vegetarian chills, bean casseroles, and make-ahead lasagnes. New baking and dessert chapters promise to enhance Joy of Cooking's reputation as a bible for bakers. From cover to cover, Joy's chapters have been imbued with the knowledge and passion of America's greatest cooks and cooking teachers. An invaluable combination of old and new, this edition of Joy of Cooking promises to keep you cooking for years to come.\n",
      "\n",
      "\n",
      "Title: The New Best Recipe -- (Score: 0.3842) (Goodreads Id: 24019)\n",
      "Authors: Cook's Illustrated Magazine, John Burgoyne, Carl Tremblay\n",
      "Overview: The flagship book of the award-winning, best-selling series, is back-bigger and better than ever. Fully-updated and double the size of the original, this new edition boasts 22 chapters covering 1,000 foolproof recipes. 40% new recipes pack this 1,000-page, one-stop source for the best-tested recipes in America.\n",
      "\n",
      "\n"
     ]
    }
   ],
   "source": [
    "# Standard lexical search\n",
    "results = tfidf_search.search(*queries, k=k)\n",
    "\n",
    "print_results(results, 'Results for standard lexical search')"
   ]
  },
  {
   "cell_type": "markdown",
   "metadata": {},
   "source": [
    "### TF-IDF retrieval, Bi-encoder re-ranking"
   ]
  },
  {
   "cell_type": "markdown",
   "metadata": {},
   "source": [
    "Hybrid search with TF-IDF retrieval and Bi-encoder re-ranking."
   ]
  },
  {
   "cell_type": "code",
   "execution_count": 21,
   "metadata": {},
   "outputs": [
    {
     "name": "stderr",
     "output_type": "stream",
     "text": [
      "2025-03-14 16:17:13,169 - [9284] - search - [biencoder] - INFO - Loading Bi-Encoder paraphrase-distilroberta-base-v2\n"
     ]
    },
    {
     "name": "stderr",
     "output_type": "stream",
     "text": [
      "2025-03-14 16:17:13,785 - [9284] - search - [embeddings] - INFO - Retrieving embeddings from disk for Bi-Encoder paraphrase-distilroberta-base-v2  with encoding strategy 'title_overview'\n",
      "2025-03-14 16:17:13,844 - [9284] - search - [_get_embeddings] - INFO - Fetched pre-computed embeddings from embeddings/paraphrase-distilroberta-base-v2/top5sent_title_overview.pkl\n"
     ]
    },
    {
     "name": "stdout",
     "output_type": "stream",
     "text": [
      "Results for hybrid search with TF-IDF retrieval and Bi-encoder re-ranking\n",
      "======================\n",
      "\n",
      "Query: Best cooking recipes\n",
      "Top 3 most similar books in corpus:\n",
      "Title: Better Homes and Gardens New Cook Book   -- (Score: 0.5897) (Goodreads Id: 411053)\n",
      "Authors: Better Homes and Gardens\n",
      "Overview: Features: Over 900 new recipes 1,200 in all-reflect current eating habits and lifestyles; 500 new photographs over 700 in all-including 60 percent more of finished food than the last edition; Dozens of new recipes offer ethnic flavours, fresh ingredients, or vegetarian appeal; Many recipes feature make-ahead directions or quick-to-the-table meals; New chapter provides recipes for crockery cookers; Efficient, easy-to-read format, with recipes categorised into 21 chapters, each thoroughly indexed for easy reference; Expanded chapter on cooking basics includes advice on food safety, menu planning, table setting, and make-ahead cooking, plus a thorough glossary on ingredients and techniques; Appliance-friendly recipes help cooks save time and creatively use new kitchen tools; Nutrition information with each recipe, plus diabetic exchanges; Contemporary food photography attracts browsers and helps cooks discover new recipes to make; Icons identify low-fat, no-fat, fast, and best-loved recipes; Every recipe tested and perfected by the Better Homes and Gardens Test Kitchen; Revised and updated cooking charts, ingredient photos, emergency substitutions, and equivalents; Respected, reliable kitchen reference with hundreds of cooking terms, tips, and techniques.\n",
      "\n",
      "\n",
      "Title: The Joy of Cooking -- (Score: 0.5722) (Goodreads Id: 327847)\n",
      "Authors: Irma S. Rombauer, Marion Rombauer Becker, Ethan Becker\n",
      "Overview: Since its original publication, Joy of Cooking has been the most authoritative cookbook in America, the one upon which millions of cooks have confidently relied for more than sixty-five years. New chapters reflect changing American tastes and lifestyles:Separate new chapters on grains, beans, and pasta include recipes for grits, polenta, pilafs, risottos, vegetarian chills, bean casseroles, and make-ahead lasagnes. New baking and dessert chapters promise to enhance Joy of Cooking's reputation as a bible for bakers. From cover to cover, Joy's chapters have been imbued with the knowledge and passion of America's greatest cooks and cooking teachers. An invaluable combination of old and new, this edition of Joy of Cooking promises to keep you cooking for years to come.\n",
      "\n",
      "\n",
      "Title: The New Best Recipe -- (Score: 0.5326) (Goodreads Id: 24019)\n",
      "Authors: Cook's Illustrated Magazine, John Burgoyne, Carl Tremblay\n",
      "Overview: The flagship book of the award-winning, best-selling series, is back-bigger and better than ever. Fully-updated and double the size of the original, this new edition boasts 22 chapters covering 1,000 foolproof recipes. 40% new recipes pack this 1,000-page, one-stop source for the best-tested recipes in America.\n",
      "\n",
      "\n"
     ]
    }
   ],
   "source": [
    "results = tfidf_search.search(*queries, k=k, reranking_strategy='biencoder')\n",
    "\n",
    "print_results(results, 'Results for hybrid search with TF-IDF retrieval and Bi-encoder re-ranking')"
   ]
  },
  {
   "cell_type": "markdown",
   "metadata": {},
   "source": [
    "### TF-IDF retrieval, Cross-Encoder re-ranking."
   ]
  },
  {
   "cell_type": "markdown",
   "metadata": {},
   "source": [
    "Hybrid search with TF-IDF retrieval and Cross-encoder re-ranking."
   ]
  },
  {
   "cell_type": "code",
   "execution_count": 22,
   "metadata": {},
   "outputs": [
    {
     "name": "stderr",
     "output_type": "stream",
     "text": [
      "2025-03-14 16:17:13,948 - [9284] - search - [crossencoder] - INFO - Loading Cross-Encoder cross-encoder/stsb-distilroberta-base\n"
     ]
    },
    {
     "name": "stdout",
     "output_type": "stream",
     "text": [
      "Results for hybrid search with TF-IDF retrieval and Cross-encoder re-ranking.\n",
      "======================\n",
      "\n",
      "Query: Best cooking recipes\n",
      "Top 3 most similar books in corpus:\n",
      "Title: How to Cook Everything: Simple Recipes for Great Food -- (Score: 0.7228) (Goodreads Id: 603204)\n",
      "Authors: Mark Bittman\n",
      "Overview: Great Food Made Simple Here's the breakthrough one-stop cooking reference for today's generation of cooks! Nationally known cooking authority Mark Bittman shows you how to prepare great food for all occasions using simple techniques, fresh ingredients, and basic kitchen equipment. Just as important, How to Cook Everything takes a relaxed, straightforward approach to cooking, so you can enjoy yourself in the kitchen and still achieve outstanding results.\n",
      "\n",
      "\n",
      "Title: The Joy of Cooking -- (Score: 0.6943) (Goodreads Id: 327847)\n",
      "Authors: Irma S. Rombauer, Marion Rombauer Becker, Ethan Becker\n",
      "Overview: Since its original publication, Joy of Cooking has been the most authoritative cookbook in America, the one upon which millions of cooks have confidently relied for more than sixty-five years. New chapters reflect changing American tastes and lifestyles:Separate new chapters on grains, beans, and pasta include recipes for grits, polenta, pilafs, risottos, vegetarian chills, bean casseroles, and make-ahead lasagnes. New baking and dessert chapters promise to enhance Joy of Cooking's reputation as a bible for bakers. From cover to cover, Joy's chapters have been imbued with the knowledge and passion of America's greatest cooks and cooking teachers. An invaluable combination of old and new, this edition of Joy of Cooking promises to keep you cooking for years to come.\n",
      "\n",
      "\n",
      "Title: Rachael Ray 365: No Repeats: A Year of Deliciously Different Dinners -- (Score: 0.6757) (Goodreads Id: 3882)\n",
      "Authors: Rachael Ray\n",
      "Overview: With her largest collection of recipes yet, Food Network’s indefatigable cook Rachael Ray guarantees you’ll be able to put something fresh and exciting on your dinner table every night for a full year... without a single repeat! Rachael offers dozens of recipes that, once mastered, can become entirely new dishes with just a few ingredient swaps. Best of all, these flavor-packed dishes will satisfy your every craving and renew your taste for cooking. With so many delicious entrees to choose from you’ll never have an excuse for being in a cooking rut again. With Rachael’s most varied and comprehensive collection of 30-minute recipes ever, you’ll have everyone at your table saying Yummo!\n",
      "\n",
      "\n"
     ]
    }
   ],
   "source": [
    "results = tfidf_search.search(*queries, k=k, reranking_strategy='crossencoder')\n",
    "\n",
    "print_results(results, 'Results for hybrid search with TF-IDF retrieval and Cross-encoder re-ranking.')"
   ]
  }
 ],
 "metadata": {
  "kernelspec": {
   "display_name": "env3.11",
   "language": "python",
   "name": "python3"
  },
  "language_info": {
   "codemirror_mode": {
    "name": "ipython",
    "version": 3
   },
   "file_extension": ".py",
   "mimetype": "text/x-python",
   "name": "python",
   "nbconvert_exporter": "python",
   "pygments_lexer": "ipython3",
   "version": "3.11.9"
  }
 },
 "nbformat": 4,
 "nbformat_minor": 2
}
